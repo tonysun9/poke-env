{
 "cells": [
  {
   "cell_type": "code",
   "execution_count": 2,
   "metadata": {},
   "outputs": [
    {
     "ename": "ImportError",
     "evalue": "cannot import name 'VecEnvStepReturn' from 'stable_baselines3.common.vec_env' (/Users/tonysun/.pyenv/versions/3.11.5/lib/python3.11/site-packages/stable_baselines3/common/vec_env/__init__.py)",
     "output_type": "error",
     "traceback": [
      "\u001b[0;31m---------------------------------------------------------------------------\u001b[0m",
      "\u001b[0;31mImportError\u001b[0m                               Traceback (most recent call last)",
      "\u001b[1;32m/Users/tonysun/pokemon/poke-env/examples/custom/env/vec_env.ipynb Cell 1\u001b[0m line \u001b[0;36m2\n\u001b[1;32m      <a href='vscode-notebook-cell:/Users/tonysun/pokemon/poke-env/examples/custom/env/vec_env.ipynb#W0sZmlsZQ%3D%3D?line=0'>1</a>\u001b[0m \u001b[39mimport\u001b[39;00m \u001b[39mnumpy\u001b[39;00m \u001b[39mas\u001b[39;00m \u001b[39mnp\u001b[39;00m\n\u001b[0;32m----> <a href='vscode-notebook-cell:/Users/tonysun/pokemon/poke-env/examples/custom/env/vec_env.ipynb#W0sZmlsZQ%3D%3D?line=1'>2</a>\u001b[0m \u001b[39mfrom\u001b[39;00m \u001b[39mstable_baselines3\u001b[39;00m\u001b[39m.\u001b[39;00m\u001b[39mcommon\u001b[39;00m\u001b[39m.\u001b[39;00m\u001b[39mvec_env\u001b[39;00m \u001b[39mimport\u001b[39;00m VecEnv, VecEnvStepReturn\n\u001b[1;32m      <a href='vscode-notebook-cell:/Users/tonysun/pokemon/poke-env/examples/custom/env/vec_env.ipynb#W0sZmlsZQ%3D%3D?line=2'>3</a>\u001b[0m \u001b[39mfrom\u001b[39;00m \u001b[39mpoke_env\u001b[39;00m\u001b[39m.\u001b[39;00m\u001b[39mplayer\u001b[39;00m\u001b[39m.\u001b[39;00m\u001b[39mrandom_player\u001b[39;00m \u001b[39mimport\u001b[39;00m RandomPlayer\n\u001b[1;32m      <a href='vscode-notebook-cell:/Users/tonysun/pokemon/poke-env/examples/custom/env/vec_env.ipynb#W0sZmlsZQ%3D%3D?line=3'>4</a>\u001b[0m \u001b[39mimport\u001b[39;00m \u001b[39masyncio\u001b[39;00m\n",
      "\u001b[0;31mImportError\u001b[0m: cannot import name 'VecEnvStepReturn' from 'stable_baselines3.common.vec_env' (/Users/tonysun/.pyenv/versions/3.11.5/lib/python3.11/site-packages/stable_baselines3/common/vec_env/__init__.py)"
     ]
    }
   ],
   "source": [
    "import numpy as np\n",
    "from stable_baselines3.common.vec_env import VecEnv, VecEnvStepReturn\n",
    "from poke_env.player.random_player import RandomPlayer\n",
    "import asyncio\n",
    "import gymnasium as gym\n",
    "\n",
    "class PokeVecEnv(VecEnv):\n",
    "    def __init__(self, num_envs, embed_battle):\n",
    "        self.players = [RandomPlayer(battle_format=\"gen1randombattle\") for _ in range(num_envs)]\n",
    "        self.opponents = [RandomPlayer(battle_format=\"gen1randombattle\") for _ in range(num_envs)]\n",
    "        self.embed_battle = embed_battle\n",
    "\n",
    "        # Define action_space and observation_space\n",
    "        action_space = gym.spaces.Discrete(9)  # Assuming 4 moves + 5 switches\n",
    "        observation_space = gym.spaces.Box(low=-np.inf, high=np.inf, shape=(10,), dtype=np.float32)\n",
    "\n",
    "        super().__init__(num_envs, observation_space, action_space)\n",
    "\n",
    "    def step_async(self, actions):\n",
    "        self.actions = actions\n",
    "        for player, action in zip(self.players, actions):\n",
    "            asyncio.run(player.choose_move(action))\n",
    "\n",
    "    def step_wait(self):\n",
    "        observations, rewards, dones, infos = [], [], [], []\n",
    "        for player in self.players:\n",
    "            asyncio.run(player.complete_turn())\n",
    "            observation = self.embed_battle(player.current_battle)\n",
    "            reward = 1 if player.current_battle.won else 0\n",
    "            done = player.current_battle.finished\n",
    "            info = {}\n",
    "\n",
    "            observations.append(observation)\n",
    "            rewards.append(reward)\n",
    "            dones.append(done)\n",
    "            infos.append(info)\n",
    "\n",
    "        return np.array(observations), np.array(rewards), np.array(dones), infos\n",
    "\n",
    "    def reset(self):\n",
    "        observations = []\n",
    "        for player, opponent in zip(self.players, self.opponents):\n",
    "            asyncio.run(player.battle_against(opponent, n_battles=1))\n",
    "            observations.append(self.embed_battle(player.current_battle))\n",
    "        return np.array(observations)\n",
    "\n",
    "    def close(self):\n",
    "        pass  # Optional: Implement closing procedures\n",
    "\n",
    "    def render(self, mode='human'):\n",
    "        pass  # Optional: Implement rendering if needed"
   ]
  },
  {
   "cell_type": "code",
   "execution_count": null,
   "metadata": {},
   "outputs": [],
   "source": []
  },
  {
   "cell_type": "code",
   "execution_count": null,
   "metadata": {},
   "outputs": [],
   "source": []
  },
  {
   "cell_type": "code",
   "execution_count": 3,
   "metadata": {},
   "outputs": [],
   "source": [
    "from poke_env.environment.abstract_battle import AbstractBattle\n",
    "from poke_env.data import GenData\n",
    "\n",
    "def embed_battle(self, battle: AbstractBattle):\n",
    "    # -1 indicates that the move does not have a base power\n",
    "    # or is not available\n",
    "    moves_base_power = -np.ones(4)\n",
    "    moves_dmg_multiplier = np.ones(4)\n",
    "    for i, move in enumerate(battle.available_moves):\n",
    "        moves_base_power[i] = (\n",
    "            move.base_power / 100\n",
    "        )  # Simple rescaling to facilitate learning\n",
    "        if move.type:\n",
    "            moves_dmg_multiplier[i] = move.type.damage_multiplier(\n",
    "                battle.opponent_active_pokemon.type_1,\n",
    "                battle.opponent_active_pokemon.type_2,\n",
    "                type_chart=GenData.from_gen(8).type_chart,\n",
    "            )\n",
    "\n",
    "    # We count how many pokemons have fainted in each team\n",
    "    fainted_mon_team = len([mon for mon in battle.team.values() if mon.fainted]) / 6\n",
    "    fainted_mon_opponent = (\n",
    "        len([mon for mon in battle.opponent_team.values() if mon.fainted]) / 6\n",
    "    )\n",
    "\n",
    "    # Final vector with 10 components\n",
    "    final_vector = np.concatenate(\n",
    "        [\n",
    "            moves_base_power,\n",
    "            moves_dmg_multiplier,\n",
    "            [fainted_mon_team, fainted_mon_opponent],\n",
    "        ]\n",
    "    )\n",
    "    return np.float32(final_vector)"
   ]
  },
  {
   "cell_type": "code",
   "execution_count": null,
   "metadata": {},
   "outputs": [],
   "source": []
  }
 ],
 "metadata": {
  "kernelspec": {
   "display_name": "Python 3",
   "language": "python",
   "name": "python3"
  },
  "language_info": {
   "codemirror_mode": {
    "name": "ipython",
    "version": 3
   },
   "file_extension": ".py",
   "mimetype": "text/x-python",
   "name": "python",
   "nbconvert_exporter": "python",
   "pygments_lexer": "ipython3",
   "version": "3.11.5"
  }
 },
 "nbformat": 4,
 "nbformat_minor": 2
}
