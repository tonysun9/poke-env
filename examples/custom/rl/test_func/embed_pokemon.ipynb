{
 "cells": [
  {
   "cell_type": "code",
   "execution_count": 40,
   "metadata": {},
   "outputs": [],
   "source": [
    "from poke_env.environment.pokemon import Pokemon\n",
    "import json\n",
    "from typing import Optional"
   ]
  },
  {
   "cell_type": "code",
   "execution_count": 18,
   "metadata": {},
   "outputs": [],
   "source": [
    "with open(\"../../pkmn_data/crit_chance.json\", \"r\") as f:\n",
    "    crit_chance = json.load(f)"
   ]
  },
  {
   "cell_type": "code",
   "execution_count": 19,
   "metadata": {},
   "outputs": [],
   "source": [
    "for pkmn in crit_chance.keys():\n",
    "    if \" \" in pkmn:\n",
    "        print(pkmn)"
   ]
  },
  {
   "cell_type": "code",
   "execution_count": 41,
   "metadata": {},
   "outputs": [
    {
     "data": {
      "text/plain": [
       "{'atk': 45, 'def': 65, 'hp': 40, 'spa': 100, 'spd': 100, 'spe': 90}"
      ]
     },
     "execution_count": 41,
     "metadata": {},
     "output_type": "execute_result"
    }
   ],
   "source": [
    "p = Pokemon(1, species=\"mrmime\")\n",
    "crit_chance[\"mrmime\"]\n",
    "p.base_stats"
   ]
  },
  {
   "cell_type": "code",
   "execution_count": 42,
   "metadata": {},
   "outputs": [],
   "source": [
    "def embed_pokemon(pkmn: Optional[Pokemon] = None, revealed = True, fainted = False):\n",
    "    if not revealed:\n",
    "        return [0] * 9\n",
    "    \n",
    "    if fainted:\n",
    "        return [0] * 8 + [1]\n",
    "    \n",
    "    stats = [pkmn.current_hp_fraction, \n",
    "             pkmn.stats[\"spe\"] / 200 if pkmn.stats[\"spe\"] else 0]\n",
    "    \n",
    "    status_order = ['par', 'slp', 'frz', 'brn', 'psn']\n",
    "    status = [0] * len(status_order)\n",
    "    if pkmn.status:\n",
    "        status[status_order.index(str(pkmn.status.name).lower())] = 1\n",
    "        \n",
    "    crit_chance = (pkmn.base_stats[\"spe\"] / 512)\n",
    "    \n",
    "    return stats + status + [crit_chance, int(pkmn.revealed)]"
   ]
  },
  {
   "cell_type": "code",
   "execution_count": 34,
   "metadata": {},
   "outputs": [
    {
     "data": {
      "text/plain": [
       "9"
      ]
     },
     "execution_count": 34,
     "metadata": {},
     "output_type": "execute_result"
    }
   ],
   "source": [
    "len(embed_pokemon(p, crit_chance))\n"
   ]
  },
  {
   "cell_type": "code",
   "execution_count": 43,
   "metadata": {},
   "outputs": [],
   "source": [
    "def embed_side(pkmn):\n",
    "    boosts_order = ['atk', 'spa', 'def', 'spd', 'spe', 'accuracy']\n",
    "    boosts = [0] * len(boosts_order)\n",
    "    if pkmn.boosts:\n",
    "        for stat, boost in pkmn.boosts.items():\n",
    "            if stat == \"evasion\":  # evasion clause\n",
    "                continue\n",
    "            boosts[boosts_order.index(stat)] = boost\n",
    "            \n",
    "    volatile_statuses = ['confusion', 'substitute', 'reflect']\n",
    "    volatile_status = [0] * len(volatile_statuses)\n",
    "    for effect in pkmn.effects:\n",
    "        if effect.name.lower() in volatile_statuses:\n",
    "            volatile_status[volatile_statuses.index(effect.name.lower())] = 1\n",
    "            \n",
    "    battle_info = [int(pkmn.must_recharge), int(pkmn.preparing)]\n",
    "    \n",
    "    return boosts + volatile_status + battle_info"
   ]
  },
  {
   "cell_type": "code",
   "execution_count": 44,
   "metadata": {},
   "outputs": [
    {
     "data": {
      "text/plain": [
       "11"
      ]
     },
     "execution_count": 44,
     "metadata": {},
     "output_type": "execute_result"
    }
   ],
   "source": [
    "len(embed_side(p))"
   ]
  },
  {
   "cell_type": "code",
   "execution_count": null,
   "metadata": {},
   "outputs": [],
   "source": []
  }
 ],
 "metadata": {
  "kernelspec": {
   "display_name": "Python 3",
   "language": "python",
   "name": "python3"
  },
  "language_info": {
   "codemirror_mode": {
    "name": "ipython",
    "version": 3
   },
   "file_extension": ".py",
   "mimetype": "text/x-python",
   "name": "python",
   "nbconvert_exporter": "python",
   "pygments_lexer": "ipython3",
   "version": "3.11.5"
  }
 },
 "nbformat": 4,
 "nbformat_minor": 2
}
