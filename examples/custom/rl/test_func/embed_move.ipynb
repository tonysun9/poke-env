{
 "cells": [
  {
   "cell_type": "code",
   "execution_count": 1,
   "metadata": {},
   "outputs": [],
   "source": [
    "from poke_env.environment.move import Move\n",
    "\n",
    "from typing import Optional\n",
    "import json"
   ]
  },
  {
   "cell_type": "code",
   "execution_count": 2,
   "metadata": {},
   "outputs": [],
   "source": [
    "with open(\"../../pkmn_data/gen1randbats_dmg_calc.json\", \"r\") as f:\n",
    "    dmg_calc_results = json.load(f)"
   ]
  },
  {
   "cell_type": "code",
   "execution_count": 14,
   "metadata": {},
   "outputs": [
    {
     "data": {
      "text/plain": [
       "<MoveCategory.PHYSICAL: 1>"
      ]
     },
     "execution_count": 14,
     "metadata": {},
     "output_type": "execute_result"
    }
   ],
   "source": [
    "Move(\"hyperbeam\", 1).category"
   ]
  },
  {
   "cell_type": "code",
   "execution_count": 6,
   "metadata": {},
   "outputs": [
    {
     "data": {
      "text/plain": [
       "19"
      ]
     },
     "execution_count": 6,
     "metadata": {},
     "output_type": "execute_result"
    }
   ],
   "source": [
    "from poke_env.environment.pokemon_type import PokemonType\n",
    "\n",
    "len(PokemonType)"
   ]
  },
  {
   "cell_type": "code",
   "execution_count": 10,
   "metadata": {},
   "outputs": [
    {
     "data": {
      "text/plain": [
       "<PokemonType.FIRE: 7>"
      ]
     },
     "execution_count": 10,
     "metadata": {},
     "output_type": "execute_result"
    }
   ],
   "source": [
    "from poke_env.environment.pokemon import Pokemon\n",
    "\n",
    "Pokemon(species=\"charizard\", gen=1).type_1"
   ]
  },
  {
   "cell_type": "code",
   "execution_count": null,
   "metadata": {},
   "outputs": [],
   "source": []
  },
  {
   "cell_type": "code",
   "execution_count": 70,
   "metadata": {},
   "outputs": [],
   "source": [
    "def embed_move(attacker: Optional[str] = None, defender: Optional[str] = None, move_str: Optional[str] = None, dmg_calc = None, fainted=False):\n",
    "    if fainted:\n",
    "        return [0] * 27\n",
    "    \n",
    "    if defender not in dmg_calc[attacker] or move_str not in dmg_calc[attacker][defender]:\n",
    "        dmg = [0, 0]\n",
    "        recoil = [0, 0]\n",
    "        recovery = [0, 0]\n",
    "    else:\n",
    "        dmg = dmg_calc[attacker][defender][move_str].get(\"damage\", [0, 0])\n",
    "        recoil = dmg_calc[attacker][defender][move_str].get(\"recoil\", [0, 0])\n",
    "        recovery = dmg_calc[attacker][defender][move_str].get(\"recovery\", [0, 0])\n",
    "        \n",
    "    recovery_moves = {\"recover\": 0.5, \"softboiled\": 0.5, \"rest\": 1}\n",
    "    if move_str in recovery_moves:\n",
    "        recovery = [recovery_moves[move_str], recovery_moves[move_str]]\n",
    "    \n",
    "    move = Move(move_str, gen=1)\n",
    "    \n",
    "    accuracy = move.accuracy\n",
    "    crit_ratio = move.crit_ratio\n",
    "    priority = move.priority\n",
    "    \n",
    "    move_info = [accuracy, crit_ratio, priority]\n",
    "    \n",
    "    move_categories = ['physical', 'special', 'status']\n",
    "    move_category = [0] * len(move_categories)\n",
    "    move_category[move_categories.index(str(move.category.name).lower())] = 1\n",
    "    \n",
    "    boosts_order = ['atk', 'spa', 'def', 'spd', 'spe', 'accuracy']\n",
    "    boosts = [0] * len(boosts_order)\n",
    "    if move.boosts:\n",
    "        for stat, boost in move.boosts.items():\n",
    "            boosts[boosts_order.index(stat)] = boost\n",
    "\n",
    "    status_order = ['par', 'slp', 'frz', 'brn', 'psn']\n",
    "    status = [0] * len(status_order)\n",
    "    if move.status:\n",
    "        status[status_order.index(str(move.status.name).lower())] = 1\n",
    "        \n",
    "    volatile_statuses = ['confusion', 'substitute', 'reflect', 'flinch']\n",
    "    volatile_status = [0] * len(volatile_statuses)\n",
    "    if move.volatile_status:\n",
    "        volatile_status[volatile_statuses.index(str(move.volatile_status).lower())] = 1\n",
    "        \n",
    "    for secondary in move.secondary:\n",
    "        chance = float(secondary[\"chance\"]) / 100\n",
    "        if \"boosts\" in secondary:\n",
    "            for stat, boost in secondary[\"boosts\"].items():\n",
    "                boosts[boosts_order.index(stat)] = boost * chance\n",
    "        if \"status\" in secondary:\n",
    "            status[status_order.index(str(secondary[\"status\"]).lower())] = chance\n",
    "        if \"volatileStatus\" in secondary:\n",
    "            volatile_status[volatile_statuses.index(str(secondary[\"volatileStatus\"]).lower())] = chance\n",
    "    \n",
    "    unique_moves = [\"hyperbeam\", \"skyattack\", \"rest\", \"counter\", \"mimic\"]\n",
    "    unique_move = [0] * len(unique_moves)\n",
    "    if move_str in unique_moves:\n",
    "        unique_move[unique_moves.index(move_str)] = 1\n",
    "    \n",
    "    # print(dmg, recoil, recovery)\n",
    "    # print(move_category, move_info)\n",
    "    # print(boosts, status, volatile_status)\n",
    "    # print(unique_move)\n",
    "    \n",
    "    return dmg + recoil + recovery + move_category + move_info + boosts + status + volatile_status"
   ]
  },
  {
   "cell_type": "code",
   "execution_count": 68,
   "metadata": {},
   "outputs": [
    {
     "data": {
      "text/plain": [
       "27"
      ]
     },
     "execution_count": 68,
     "metadata": {},
     "output_type": "execute_result"
    }
   ],
   "source": [
    "len(embed_move(\"Exeggutor\", \"Snorlax\", \"megadrain\", dmg_calc_results))"
   ]
  },
  {
   "cell_type": "code",
   "execution_count": 69,
   "metadata": {},
   "outputs": [],
   "source": [
    "TEST_MOVES = [\"agility\", \"explosion\", \"megadrain\", \"hyperbeam\", \"substitute\", \n",
    "              \"thunderwave\", \"fireblast\", \"confuseray\", \"recover\", \"rest\",\n",
    "              \"quickattack\"]\n",
    "for move in TEST_MOVES:\n",
    "    # print(move)\n",
    "    # print(embed_move(\"Exeggutor\", \"Snorlax\", move, dmg_calc_results))\n",
    "    embed_move(\"Exeggutor\", \"?\", move, dmg_calc_results)"
   ]
  },
  {
   "cell_type": "code",
   "execution_count": 64,
   "metadata": {},
   "outputs": [],
   "source": [
    "with open(\"../../pkmn_data/all_moves.txt\", \"r\") as f:\n",
    "    all_moves = f.read().splitlines()\n",
    "    \n",
    "clean_move = lambda move: move.replace(\" \", \"\").replace(\"-\", \"\").lower()\n"
   ]
  },
  {
   "cell_type": "code",
   "execution_count": 65,
   "metadata": {},
   "outputs": [],
   "source": [
    "for move in all_moves:\n",
    "    # print(move)\n",
    "    embed_move(\"Exeggutor\", \"Snorlax\", clean_move(move), dmg_calc_results)"
   ]
  },
  {
   "cell_type": "code",
   "execution_count": null,
   "metadata": {},
   "outputs": [],
   "source": []
  },
  {
   "cell_type": "code",
   "execution_count": null,
   "metadata": {},
   "outputs": [],
   "source": []
  }
 ],
 "metadata": {
  "kernelspec": {
   "display_name": "Python 3",
   "language": "python",
   "name": "python3"
  },
  "language_info": {
   "codemirror_mode": {
    "name": "ipython",
    "version": 3
   },
   "file_extension": ".py",
   "mimetype": "text/x-python",
   "name": "python",
   "nbconvert_exporter": "python",
   "pygments_lexer": "ipython3",
   "version": "3.11.5"
  }
 },
 "nbformat": 4,
 "nbformat_minor": 2
}
