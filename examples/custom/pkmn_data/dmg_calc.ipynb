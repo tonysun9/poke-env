{
 "cells": [
  {
   "cell_type": "code",
   "execution_count": 32,
   "metadata": {},
   "outputs": [],
   "source": [
    "import requests\n",
    "from typing import List, Optional\n",
    "\n",
    "from pydantic import BaseModel\n",
    "from poke_env.environment.move import Move\n",
    "from poke_env.environment.pokemon import Pokemon\n",
    "\n",
    "\n",
    "\n",
    "class DamageCalcResult(BaseModel):\n",
    "    damage: List[int]\n",
    "    # recoilInfo: dict\n",
    "    # recoveryInfo: dict\n",
    "    # kochanceInfo: dict\n"
   ]
  },
  {
   "cell_type": "code",
   "execution_count": 33,
   "metadata": {},
   "outputs": [
    {
     "ename": "ValueError",
     "evalue": "GenData for gen 1 already initialized.",
     "output_type": "error",
     "traceback": [
      "\u001b[0;31m---------------------------------------------------------------------------\u001b[0m",
      "\u001b[0;31mValueError\u001b[0m                                Traceback (most recent call last)",
      "\u001b[1;32m/Users/tonysun/pokemon/poke-env/examples/custom/pkmn_data/dmg_calc.ipynb Cell 2\u001b[0m line \u001b[0;36m4\n\u001b[1;32m      <a href='vscode-notebook-cell:/Users/tonysun/pokemon/poke-env/examples/custom/pkmn_data/dmg_calc.ipynb#X51sZmlsZQ%3D%3D?line=0'>1</a>\u001b[0m \u001b[39mfrom\u001b[39;00m \u001b[39mpoke_env\u001b[39;00m\u001b[39m.\u001b[39;00m\u001b[39mdata\u001b[39;00m\u001b[39m.\u001b[39;00m\u001b[39mgen_data\u001b[39;00m \u001b[39mimport\u001b[39;00m GenData\n\u001b[0;32m----> <a href='vscode-notebook-cell:/Users/tonysun/pokemon/poke-env/examples/custom/pkmn_data/dmg_calc.ipynb#X51sZmlsZQ%3D%3D?line=3'>4</a>\u001b[0m TYPE_CHART \u001b[39m=\u001b[39m GenData(\u001b[39m1\u001b[39;49m)\u001b[39m.\u001b[39mload_type_chart(\u001b[39m1\u001b[39m)\n",
      "File \u001b[0;32m~/pokemon/poke-env/src/poke_env/data/gen_data.py:21\u001b[0m, in \u001b[0;36mGenData.__init__\u001b[0;34m(self, gen)\u001b[0m\n\u001b[1;32m     19\u001b[0m \u001b[39mdef\u001b[39;00m \u001b[39m__init__\u001b[39m(\u001b[39mself\u001b[39m, gen: \u001b[39mint\u001b[39m):\n\u001b[1;32m     20\u001b[0m     \u001b[39mif\u001b[39;00m gen \u001b[39min\u001b[39;00m \u001b[39mself\u001b[39m\u001b[39m.\u001b[39m_gen_data_per_gen:\n\u001b[0;32m---> 21\u001b[0m         \u001b[39mraise\u001b[39;00m \u001b[39mValueError\u001b[39;00m(\u001b[39mf\u001b[39m\u001b[39m\"\u001b[39m\u001b[39mGenData for gen \u001b[39m\u001b[39m{\u001b[39;00mgen\u001b[39m}\u001b[39;00m\u001b[39m already initialized.\u001b[39m\u001b[39m\"\u001b[39m)\n\u001b[1;32m     23\u001b[0m     \u001b[39mself\u001b[39m\u001b[39m.\u001b[39mgen \u001b[39m=\u001b[39m gen\n\u001b[1;32m     24\u001b[0m     \u001b[39mself\u001b[39m\u001b[39m.\u001b[39mmoves \u001b[39m=\u001b[39m \u001b[39mself\u001b[39m\u001b[39m.\u001b[39mload_moves(gen)\n",
      "\u001b[0;31mValueError\u001b[0m: GenData for gen 1 already initialized."
     ]
    }
   ],
   "source": [
    "from poke_env.data.gen_data import GenData\n",
    "\n",
    "\n",
    "TYPE_CHART = GenData(1).load_type_chart(1)"
   ]
  },
  {
   "cell_type": "code",
   "execution_count": 3,
   "metadata": {},
   "outputs": [],
   "source": [
    "class PokemonInfo(BaseModel):\n",
    "    name: str\n",
    "    level: int\n",
    "    ivs: Optional[dict] = None\n",
    "    evs: Optional[dict] = None"
   ]
  },
  {
   "cell_type": "code",
   "execution_count": 61,
   "metadata": {},
   "outputs": [],
   "source": [
    "def get_1v1_calc(p1_pkmn: PokemonInfo, p2_pkmn: PokemonInfo, moves: List[str], gen: int =1):\n",
    "    dmg_moves, no_effect_moves = [], []\n",
    "    def_pkmn = Pokemon(species=p2_pkmn.name, gen=1)\n",
    "    for move in moves:\n",
    "        move_type = Move(move, 1).type.name\n",
    "        \n",
    "        def_type_1 = def_pkmn.type_1.name\n",
    "        if TYPE_CHART[def_type_1][move_type] == 0:\n",
    "            no_effect_moves.append(move)\n",
    "            continue\n",
    "        \n",
    "        if def_pkmn.type_2:\n",
    "            def_type_2 = def_pkmn.type_2.name\n",
    "            if TYPE_CHART[def_type_2][move_type] == 0:\n",
    "                no_effect_moves.append(move)\n",
    "                \n",
    "                continue\n",
    "        \n",
    "        dmg_moves.append(move)    \n",
    "\n",
    "    data = {\n",
    "        \"gen\": gen,\n",
    "        \"attackingPokemon\": p1_pkmn.name,\n",
    "        \"attackerLevel\": p1_pkmn.level,\n",
    "        \"attackerIVs\": p1_pkmn.ivs,\n",
    "        \"attackerEVs\": p1_pkmn.evs,\n",
    "        \n",
    "        \"defendingPokemon\": p2_pkmn.name,\n",
    "        \"defenderLevel\": p2_pkmn.level,\n",
    "        \"defenderIVs\": p2_pkmn.ivs,\n",
    "        \"defenderEVs\": p2_pkmn.evs,\n",
    "        \n",
    "        \"moveNames\": dmg_moves,\n",
    "    }\n",
    "    \n",
    "    {'damageRange': [0, 0],\n",
    "    'recoilInfo': {'recoil': [0, 0], 'text': ''},\n",
    "    'recoveryInfo': {'recovery': [0, 0], 'text': ''}}\n",
    "\n",
    "\n",
    "    response = requests.post(\"http://localhost:3000/calculatefull\", json=data, timeout=3)\n",
    "    json = response.json()\n",
    "    try:\n",
    "        for obj in json:\n",
    "            if type(obj[\"damage\"]) == int:\n",
    "                obj[\"damage\"] = [obj[\"damage\"]]\n",
    "    except:\n",
    "        # print(json)\n",
    "        pass\n",
    "    # json_class = DamageCalcResult.model_validate(json)\n",
    "    # return {\n",
    "    #     move: DamageCalcResult.model_validate(dmg_result)\n",
    "    #     for move, dmg_result in zip(dmg_moves.values(), json)\n",
    "    # }\n",
    "    return json, dmg_moves"
   ]
  },
  {
   "cell_type": "code",
   "execution_count": 77,
   "metadata": {},
   "outputs": [],
   "source": [
    "abra = PokemonInfo(name=\"Exeggutor\", level=65)\n",
    "aerodactyl = PokemonInfo(name=\"Snorlax\", level=70)"
   ]
  },
  {
   "cell_type": "code",
   "execution_count": 83,
   "metadata": {},
   "outputs": [
    {
     "data": {
      "text/plain": [
       "({'results': [{'damageRange': [57, 67],\n",
       "    'recoilInfo': {'recoil': [5.5, 6.4], 'text': '5.5 - 6.4% recoil damage'},\n",
       "    'recoveryInfo': {'recovery': [0, 0], 'text': ''}},\n",
       "   {'damageRange': [92, 109],\n",
       "    'recoilInfo': {'recoil': [0, 0], 'text': ''},\n",
       "    'recoveryInfo': {'recovery': [0, 0], 'text': ''}},\n",
       "   {'damageRange': [41, 49],\n",
       "    'recoilInfo': {'recoil': [0, 0], 'text': ''},\n",
       "    'recoveryInfo': {'recovery': [21, 25], 'text': '8.1 - 9.6% recovered'}}],\n",
       "  'attackerStats': {'hp': 258,\n",
       "   'atk': 188,\n",
       "   'def': 175,\n",
       "   'spa': 227,\n",
       "   'spd': 227,\n",
       "   'spe': 136},\n",
       "  'defenderStats': {'hp': 369,\n",
       "   'atk': 224,\n",
       "   'def': 161,\n",
       "   'spa': 161,\n",
       "   'spd': 161,\n",
       "   'spe': 112}},\n",
       " ['doubleedge', 'psychic', 'megadrain'])"
      ]
     },
     "execution_count": 83,
     "metadata": {},
     "output_type": "execute_result"
    }
   ],
   "source": [
    "# get_1v1_calc(abra, aerodactyl, moves=[\"Psychic\", \"Seismic Toss\", \"Thunderbolt\", \"Ice Punch\"])\n",
    "# get_1v1_calc(abra, aerodactyl, moves=[\"Mega Drain\", \"Explosion\", \"Double Edge\"])\n",
    "get_1v1_calc(abra, aerodactyl, moves=[\"doubleedge\", \"psychic\", \"megadrain\"])"
   ]
  },
  {
   "cell_type": "code",
   "execution_count": null,
   "metadata": {},
   "outputs": [],
   "source": []
  },
  {
   "cell_type": "code",
   "execution_count": 92,
   "metadata": {},
   "outputs": [
    {
     "ename": "TypeError",
     "evalue": "vars() argument must have __dict__ attribute",
     "output_type": "error",
     "traceback": [
      "\u001b[0;31m---------------------------------------------------------------------------\u001b[0m",
      "\u001b[0;31mTypeError\u001b[0m                                 Traceback (most recent call last)",
      "\u001b[1;32m/Users/tonysun/pokemon/poke-env/examples/custom/pkmn_data/dmg_calc.ipynb Cell 8\u001b[0m line \u001b[0;36m1\n\u001b[0;32m----> <a href='vscode-notebook-cell:/Users/tonysun/pokemon/poke-env/examples/custom/pkmn_data/dmg_calc.ipynb#X10sZmlsZQ%3D%3D?line=0'>1</a>\u001b[0m \u001b[39mvars\u001b[39;49m(Move(\u001b[39m\"\u001b[39;49m\u001b[39msoftboiled\u001b[39;49m\u001b[39m\"\u001b[39;49m, \u001b[39m1\u001b[39;49m))\n",
      "\u001b[0;31mTypeError\u001b[0m: vars() argument must have __dict__ attribute"
     ]
    }
   ],
   "source": [
    "vars(Move(\"softboiled\", 1))"
   ]
  },
  {
   "cell_type": "code",
   "execution_count": 64,
   "metadata": {},
   "outputs": [
    {
     "data": {
      "text/plain": [
       "'doubleedge'"
      ]
     },
     "execution_count": 64,
     "metadata": {},
     "output_type": "execute_result"
    }
   ],
   "source": [
    "Move(\"doubleedge\", 1).id"
   ]
  },
  {
   "cell_type": "code",
   "execution_count": 22,
   "metadata": {},
   "outputs": [
    {
     "data": {
      "text/plain": [
       "<PokemonType.PSYCHIC: 15>"
      ]
     },
     "execution_count": 22,
     "metadata": {},
     "output_type": "execute_result"
    }
   ],
   "source": [
    "\n",
    "\n",
    "abra_pkmn = Pokemon(1, details=\"abra, L81\")\n",
    "abra_pkmn.type_1"
   ]
  },
  {
   "cell_type": "code",
   "execution_count": 75,
   "metadata": {},
   "outputs": [
    {
     "data": {
      "text/plain": [
       "'abra'"
      ]
     },
     "execution_count": 75,
     "metadata": {},
     "output_type": "execute_result"
    }
   ],
   "source": [
    "abra_pkmn.species"
   ]
  },
  {
   "cell_type": "code",
   "execution_count": 12,
   "metadata": {},
   "outputs": [
    {
     "name": "stdout",
     "output_type": "stream",
     "text": [
      "None\n"
     ]
    }
   ],
   "source": [
    "print(abra_pkmn.status)"
   ]
  },
  {
   "cell_type": "code",
   "execution_count": 13,
   "metadata": {},
   "outputs": [],
   "source": [
    "import json\n",
    "with open(\"gen1randbats.json\") as f:\n",
    "    data = json.load(f)"
   ]
  },
  {
   "cell_type": "code",
   "execution_count": 14,
   "metadata": {},
   "outputs": [
    {
     "data": {
      "text/plain": [
       "{'level': 81,\n",
       " 'moves': {'Psychic': 1,\n",
       "  'Seismic Toss': 1,\n",
       "  'Thunder Wave': 1,\n",
       "  'Substitute': 0.3381,\n",
       "  'Reflect': 0.3338,\n",
       "  'Counter': 0.3281},\n",
       " 'evs': {'atk': 0},\n",
       " 'ivs': {'atk': 2}}"
      ]
     },
     "execution_count": 14,
     "metadata": {},
     "output_type": "execute_result"
    }
   ],
   "source": [
    "abra_data = data[\"Abra\"]\n",
    "aerodactyl_data = data[\"Aerodactyl\"]\n",
    "abra_data"
   ]
  },
  {
   "cell_type": "code",
   "execution_count": 15,
   "metadata": {},
   "outputs": [
    {
     "data": {
      "text/plain": [
       "{'level': 75,\n",
       " 'moves': {'Double-Edge': 1,\n",
       "  'Fire Blast': 1,\n",
       "  'Hyper Beam': 1,\n",
       "  'Sky Attack': 0.6656,\n",
       "  'Agility': 0.3344}}"
      ]
     },
     "execution_count": 15,
     "metadata": {},
     "output_type": "execute_result"
    }
   ],
   "source": [
    "aerodactyl_data"
   ]
  },
  {
   "cell_type": "code",
   "execution_count": 16,
   "metadata": {},
   "outputs": [
    {
     "data": {
      "text/plain": [
       "{'results': [{'damageRange': [120, 142],\n",
       "   'recoilInfo': {'recoil': [0, 0], 'text': ''},\n",
       "   'recoveryInfo': {'recovery': [0, 0], 'text': ''}},\n",
       "  {'damageRange': [81, 81],\n",
       "   'recoilInfo': {'recoil': [0, 0], 'text': ''},\n",
       "   'recoveryInfo': {'recovery': [0, 0], 'text': ''}},\n",
       "  {'damageRange': [1, 2],\n",
       "   'recoilInfo': {'recoil': [0, 0], 'text': ''},\n",
       "   'recoveryInfo': {'recovery': [0, 0], 'text': ''}}],\n",
       " 'attackerStats': {'hp': 206,\n",
       "  'atk': 90,\n",
       "  'def': 104,\n",
       "  'spa': 250,\n",
       "  'spd': 250,\n",
       "  'spe': 226},\n",
       " 'defenderStats': {'hp': 274,\n",
       "  'atk': 232,\n",
       "  'def': 172,\n",
       "  'spa': 164,\n",
       "  'spd': 164,\n",
       "  'spe': 269}}"
      ]
     },
     "execution_count": 16,
     "metadata": {},
     "output_type": "execute_result"
    }
   ],
   "source": [
    "attacker = \"Abra\"\n",
    "defender = \"Aerodactyl\"\n",
    "\n",
    "attacker_info = PokemonInfo(name=attacker, level=abra_data[\"level\"], ivs=abra_data[\"ivs\"], evs=abra_data[\"evs\"])\n",
    "defender_info = PokemonInfo(name=defender, level=aerodactyl_data[\"level\"], ivs=None, evs=None)\n",
    "\n",
    "moves = list(abra_data[\"moves\"].keys())\n",
    "clean_move = lambda move: move.replace(\" \", \"\").replace(\"-\", \"\").lower()\n",
    "dmg_moves = list(filter(lambda move: Move(move_id=clean_move(move), gen=1).base_power > 0, moves))\n",
    "\n",
    "dmg_calc = get_1v1_calc(attacker_info, defender_info, dmg_moves)\n",
    "dmg_calc"
   ]
  },
  {
   "cell_type": "code",
   "execution_count": 17,
   "metadata": {},
   "outputs": [
    {
     "data": {
      "text/plain": [
       "['Psychic', 'Seismic Toss', 'Counter']"
      ]
     },
     "execution_count": 17,
     "metadata": {},
     "output_type": "execute_result"
    }
   ],
   "source": [
    "dmg_moves"
   ]
  },
  {
   "cell_type": "code",
   "execution_count": 18,
   "metadata": {},
   "outputs": [
    {
     "data": {
      "text/plain": [
       "0.43795620437956206"
      ]
     },
     "execution_count": 18,
     "metadata": {},
     "output_type": "execute_result"
    }
   ],
   "source": [
    "dmg_calc[\"results\"][0][\"damageRange\"][0] / dmg_calc[\"defenderStats\"][\"hp\"]"
   ]
  },
  {
   "cell_type": "code",
   "execution_count": 19,
   "metadata": {},
   "outputs": [],
   "source": [
    "dmg_calc = get_1v1_calc(attacker_info, defender_info, [])"
   ]
  },
  {
   "cell_type": "code",
   "execution_count": 20,
   "metadata": {},
   "outputs": [
    {
     "ename": "AttributeError",
     "evalue": "'NoneType' object has no attribute 'name'",
     "output_type": "error",
     "traceback": [
      "\u001b[0;31m---------------------------------------------------------------------------\u001b[0m",
      "\u001b[0;31mAttributeError\u001b[0m                            Traceback (most recent call last)",
      "\u001b[1;32m/Users/tonysun/pokemon/poke-env/examples/custom/pkmn_data/dmg_calc.ipynb Cell 21\u001b[0m line \u001b[0;36m1\n\u001b[1;32m     <a href='vscode-notebook-cell:/Users/tonysun/pokemon/poke-env/examples/custom/pkmn_data/dmg_calc.ipynb#X36sZmlsZQ%3D%3D?line=13'>14</a>\u001b[0m dmg_moves \u001b[39m=\u001b[39m \u001b[39mlist\u001b[39m(\u001b[39mfilter\u001b[39m(\u001b[39mlambda\u001b[39;00m move: Move(move_id\u001b[39m=\u001b[39mclean_move(move), gen\u001b[39m=\u001b[39m\u001b[39m1\u001b[39m)\u001b[39m.\u001b[39mbase_power \u001b[39m>\u001b[39m \u001b[39m0\u001b[39m, moves))\n\u001b[1;32m     <a href='vscode-notebook-cell:/Users/tonysun/pokemon/poke-env/examples/custom/pkmn_data/dmg_calc.ipynb#X36sZmlsZQ%3D%3D?line=14'>15</a>\u001b[0m dmg_moves \u001b[39m=\u001b[39m \u001b[39mlist\u001b[39m(\u001b[39mfilter\u001b[39m(\u001b[39mlambda\u001b[39;00m move: clean_move(move) \u001b[39mnot\u001b[39;00m \u001b[39min\u001b[39;00m EXCLUDE_DMG_MOVES, dmg_moves))\n\u001b[0;32m---> <a href='vscode-notebook-cell:/Users/tonysun/pokemon/poke-env/examples/custom/pkmn_data/dmg_calc.ipynb#X36sZmlsZQ%3D%3D?line=16'>17</a>\u001b[0m atk_stats \u001b[39m=\u001b[39m get_1v1_calc(attacker_info, \u001b[39mNone\u001b[39;49;00m, [])\n\u001b[1;32m     <a href='vscode-notebook-cell:/Users/tonysun/pokemon/poke-env/examples/custom/pkmn_data/dmg_calc.ipynb#X36sZmlsZQ%3D%3D?line=17'>18</a>\u001b[0m atk_hp \u001b[39m=\u001b[39m atk_stats[\u001b[39m\"\u001b[39m\u001b[39mattackerStats\u001b[39m\u001b[39m\"\u001b[39m][\u001b[39m\"\u001b[39m\u001b[39mhp\u001b[39m\u001b[39m\"\u001b[39m]\n\u001b[1;32m     <a href='vscode-notebook-cell:/Users/tonysun/pokemon/poke-env/examples/custom/pkmn_data/dmg_calc.ipynb#X36sZmlsZQ%3D%3D?line=18'>19</a>\u001b[0m dmg_calc_results[attacker] \u001b[39m=\u001b[39m {\u001b[39m\"\u001b[39m\u001b[39mhp\u001b[39m\u001b[39m\"\u001b[39m: atk_hp, \n\u001b[1;32m     <a href='vscode-notebook-cell:/Users/tonysun/pokemon/poke-env/examples/custom/pkmn_data/dmg_calc.ipynb#X36sZmlsZQ%3D%3D?line=19'>20</a>\u001b[0m                               \u001b[39m\"\u001b[39m\u001b[39mspe\u001b[39m\u001b[39m\"\u001b[39m: atk_stats[\u001b[39m\"\u001b[39m\u001b[39mattackerStats\u001b[39m\u001b[39m\"\u001b[39m][\u001b[39m\"\u001b[39m\u001b[39mspe\u001b[39m\u001b[39m\"\u001b[39m]}\n",
      "\u001b[1;32m/Users/tonysun/pokemon/poke-env/examples/custom/pkmn_data/dmg_calc.ipynb Cell 21\u001b[0m line \u001b[0;36m1\n\u001b[1;32m      <a href='vscode-notebook-cell:/Users/tonysun/pokemon/poke-env/examples/custom/pkmn_data/dmg_calc.ipynb#X36sZmlsZQ%3D%3D?line=0'>1</a>\u001b[0m \u001b[39mdef\u001b[39;00m \u001b[39mget_1v1_calc\u001b[39m(p1_pkmn: PokemonInfo, p2_pkmn: PokemonInfo, moves: List[\u001b[39mstr\u001b[39m], gen: \u001b[39mint\u001b[39m \u001b[39m=\u001b[39m\u001b[39m1\u001b[39m):\n\u001b[1;32m      <a href='vscode-notebook-cell:/Users/tonysun/pokemon/poke-env/examples/custom/pkmn_data/dmg_calc.ipynb#X36sZmlsZQ%3D%3D?line=2'>3</a>\u001b[0m     data \u001b[39m=\u001b[39m {\n\u001b[1;32m      <a href='vscode-notebook-cell:/Users/tonysun/pokemon/poke-env/examples/custom/pkmn_data/dmg_calc.ipynb#X36sZmlsZQ%3D%3D?line=3'>4</a>\u001b[0m         \u001b[39m\"\u001b[39m\u001b[39mgen\u001b[39m\u001b[39m\"\u001b[39m: gen,\n\u001b[1;32m      <a href='vscode-notebook-cell:/Users/tonysun/pokemon/poke-env/examples/custom/pkmn_data/dmg_calc.ipynb#X36sZmlsZQ%3D%3D?line=4'>5</a>\u001b[0m         \u001b[39m\"\u001b[39m\u001b[39mattackingPokemon\u001b[39m\u001b[39m\"\u001b[39m: p1_pkmn\u001b[39m.\u001b[39mname,\n\u001b[1;32m      <a href='vscode-notebook-cell:/Users/tonysun/pokemon/poke-env/examples/custom/pkmn_data/dmg_calc.ipynb#X36sZmlsZQ%3D%3D?line=5'>6</a>\u001b[0m         \u001b[39m\"\u001b[39m\u001b[39mattackerLevel\u001b[39m\u001b[39m\"\u001b[39m: p1_pkmn\u001b[39m.\u001b[39mlevel,\n\u001b[1;32m      <a href='vscode-notebook-cell:/Users/tonysun/pokemon/poke-env/examples/custom/pkmn_data/dmg_calc.ipynb#X36sZmlsZQ%3D%3D?line=6'>7</a>\u001b[0m         \u001b[39m\"\u001b[39m\u001b[39mattackerIVs\u001b[39m\u001b[39m\"\u001b[39m: p1_pkmn\u001b[39m.\u001b[39mivs,\n\u001b[1;32m      <a href='vscode-notebook-cell:/Users/tonysun/pokemon/poke-env/examples/custom/pkmn_data/dmg_calc.ipynb#X36sZmlsZQ%3D%3D?line=7'>8</a>\u001b[0m         \u001b[39m\"\u001b[39m\u001b[39mattackerEVs\u001b[39m\u001b[39m\"\u001b[39m: p1_pkmn\u001b[39m.\u001b[39mevs,\n\u001b[1;32m      <a href='vscode-notebook-cell:/Users/tonysun/pokemon/poke-env/examples/custom/pkmn_data/dmg_calc.ipynb#X36sZmlsZQ%3D%3D?line=8'>9</a>\u001b[0m         \n\u001b[0;32m---> <a href='vscode-notebook-cell:/Users/tonysun/pokemon/poke-env/examples/custom/pkmn_data/dmg_calc.ipynb#X36sZmlsZQ%3D%3D?line=9'>10</a>\u001b[0m         \u001b[39m\"\u001b[39m\u001b[39mdefendingPokemon\u001b[39m\u001b[39m\"\u001b[39m: p2_pkmn\u001b[39m.\u001b[39;49mname,\n\u001b[1;32m     <a href='vscode-notebook-cell:/Users/tonysun/pokemon/poke-env/examples/custom/pkmn_data/dmg_calc.ipynb#X36sZmlsZQ%3D%3D?line=10'>11</a>\u001b[0m         \u001b[39m\"\u001b[39m\u001b[39mdefenderLevel\u001b[39m\u001b[39m\"\u001b[39m: p2_pkmn\u001b[39m.\u001b[39mlevel,\n\u001b[1;32m     <a href='vscode-notebook-cell:/Users/tonysun/pokemon/poke-env/examples/custom/pkmn_data/dmg_calc.ipynb#X36sZmlsZQ%3D%3D?line=11'>12</a>\u001b[0m         \u001b[39m\"\u001b[39m\u001b[39mdefenderIVs\u001b[39m\u001b[39m\"\u001b[39m: p2_pkmn\u001b[39m.\u001b[39mivs,\n\u001b[1;32m     <a href='vscode-notebook-cell:/Users/tonysun/pokemon/poke-env/examples/custom/pkmn_data/dmg_calc.ipynb#X36sZmlsZQ%3D%3D?line=12'>13</a>\u001b[0m         \u001b[39m\"\u001b[39m\u001b[39mdefenderEVs\u001b[39m\u001b[39m\"\u001b[39m: p2_pkmn\u001b[39m.\u001b[39mevs,\n\u001b[1;32m     <a href='vscode-notebook-cell:/Users/tonysun/pokemon/poke-env/examples/custom/pkmn_data/dmg_calc.ipynb#X36sZmlsZQ%3D%3D?line=13'>14</a>\u001b[0m         \n\u001b[1;32m     <a href='vscode-notebook-cell:/Users/tonysun/pokemon/poke-env/examples/custom/pkmn_data/dmg_calc.ipynb#X36sZmlsZQ%3D%3D?line=14'>15</a>\u001b[0m         \u001b[39m\"\u001b[39m\u001b[39mmoveNames\u001b[39m\u001b[39m\"\u001b[39m: moves,\n\u001b[1;32m     <a href='vscode-notebook-cell:/Users/tonysun/pokemon/poke-env/examples/custom/pkmn_data/dmg_calc.ipynb#X36sZmlsZQ%3D%3D?line=15'>16</a>\u001b[0m     }\n\u001b[1;32m     <a href='vscode-notebook-cell:/Users/tonysun/pokemon/poke-env/examples/custom/pkmn_data/dmg_calc.ipynb#X36sZmlsZQ%3D%3D?line=18'>19</a>\u001b[0m     response \u001b[39m=\u001b[39m requests\u001b[39m.\u001b[39mpost(\u001b[39m\"\u001b[39m\u001b[39mhttp://localhost:3000/calculatefull\u001b[39m\u001b[39m\"\u001b[39m, json\u001b[39m=\u001b[39mdata, timeout\u001b[39m=\u001b[39m\u001b[39m3\u001b[39m)\n\u001b[1;32m     <a href='vscode-notebook-cell:/Users/tonysun/pokemon/poke-env/examples/custom/pkmn_data/dmg_calc.ipynb#X36sZmlsZQ%3D%3D?line=19'>20</a>\u001b[0m     json \u001b[39m=\u001b[39m response\u001b[39m.\u001b[39mjson()\n",
      "\u001b[0;31mAttributeError\u001b[0m: 'NoneType' object has no attribute 'name'"
     ]
    }
   ],
   "source": [
    "EXCLUDE_DMG_MOVES = {\"counter\"}\n",
    "clean_move = lambda move: move.replace(\" \", \"\").replace(\"-\", \"\").lower()\n",
    "dmg_calc_results = {}\n",
    "\n",
    "counter, inner_counter = 0, 0\n",
    "\n",
    "for attacker, atk_data in data.items():\n",
    "    attacker_info = PokemonInfo(name=attacker, \n",
    "                                level=atk_data[\"level\"], \n",
    "                                ivs=atk_data[\"ivs\"] if \"ivs\" in atk_data else None, \n",
    "                                evs=atk_data[\"evs\"] if \"evs\" in atk_data else None)\n",
    "    \n",
    "    moves = list(atk_data[\"moves\"].keys())\n",
    "    dmg_moves = list(filter(lambda move: Move(move_id=clean_move(move), gen=1).base_power > 0, moves))\n",
    "    dmg_moves = list(filter(lambda move: clean_move(move) not in EXCLUDE_DMG_MOVES, dmg_moves))\n",
    "    \n",
    "    atk_stats = get_1v1_calc(attacker_info, None, [])\n",
    "    atk_hp = atk_stats[\"attackerStats\"][\"hp\"]\n",
    "    dmg_calc_results[attacker] = {\"hp\": atk_hp, \n",
    "                                  \"spe\": atk_stats[\"attackerStats\"][\"spe\"]}\n",
    "    \n",
    "    for defender, def_data in data.items():\n",
    "        defender_info = PokemonInfo(name=defender, \n",
    "                                    level=def_data[\"level\"], \n",
    "                                    ivs=def_data[\"ivs\"] if \"ivs\" in def_data else None, \n",
    "                                    evs=def_data[\"evs\"] if \"evs\" in def_data else None)\n",
    "        \n",
    "        dmg_calc = get_1v1_calc(attacker_info, defender_info, dmg_moves)\n",
    "        \n",
    "        def_hp = dmg_calc[\"defenderStats\"][\"hp\"]\n",
    "        dmg_calc_percent = {move: {} for move in dmg_moves}\n",
    "        for i, entry in enumerate(dmg_calc[\"results\"]):\n",
    "            dmg_calc_percent[dmg_moves[i]][\"damage\"] = (entry[\"damageRange\"][0] / def_hp,\n",
    "                                                        entry[\"damageRange\"][1] / def_hp)\n",
    "            recoil_lower = entry[\"recoilInfo\"][\"recoil\"][0]\n",
    "            recoil_higher = entry[\"recoilInfo\"][\"recoil\"][1]\n",
    "            if recoil_lower != 0 or recoil_higher != 0:\n",
    "                dmg_calc_percent[dmg_moves[i]][\"recoil\"] = (recoil_lower / def_hp,\n",
    "                                                            recoil_higher/ def_hp)\n",
    "            recovery_lower = entry[\"recoveryInfo\"][\"recovery\"][0]\n",
    "            recovery_higher = entry[\"recoveryInfo\"][\"recovery\"][1]\n",
    "            if recovery_lower != 0 or recovery_higher != 0:\n",
    "                dmg_calc_percent[dmg_moves[i]][\"recovery\"] = (recoil_lower/ atk_hp,\n",
    "                                                            recovery_higher / atk_hp)\n",
    "            \n",
    "        for move in dmg_calc_percent:\n",
    "            for calc in dmg_calc_percent[move]:\n",
    "                if dmg_calc_percent[move][calc][0] == 0.0 and dmg_calc_percent[move][calc][1] == 0.0:\n",
    "                    continue\n",
    "                dmg_calc_percent[move][calc] = (round(dmg_calc_percent[move][calc][0], 4),\n",
    "                                                round(dmg_calc_percent[move][calc][1], 4))\n",
    "        \n",
    "        dmg_calc_results[attacker][defender] = dmg_calc_percent\n",
    "        \n",
    "        inner_counter += 1\n",
    "        if inner_counter == 2:\n",
    "            break\n",
    "    \n",
    "    counter += 1\n",
    "    if counter == 1:\n",
    "        break\n",
    "        "
   ]
  },
  {
   "cell_type": "code",
   "execution_count": null,
   "metadata": {},
   "outputs": [
    {
     "data": {
      "text/plain": [
       "('Abra', 'Aerodactyl')"
      ]
     },
     "execution_count": 198,
     "metadata": {},
     "output_type": "execute_result"
    }
   ],
   "source": [
    "attacker, defender"
   ]
  },
  {
   "cell_type": "code",
   "execution_count": null,
   "metadata": {},
   "outputs": [
    {
     "data": {
      "text/plain": [
       "{'Abra': {'hp': 206,\n",
       "  'spe': 226,\n",
       "  'Abra': {'Psychic': {'damage': (0.1893, 0.2282)},\n",
       "   'Seismic Toss': {'damage': (0.3932, 0.3932)}},\n",
       "  'Aerodactyl': {'Psychic': {'damage': (0.438, 0.5182)},\n",
       "   'Seismic Toss': {'damage': (0.2956, 0.2956)}}}}"
      ]
     },
     "execution_count": 199,
     "metadata": {},
     "output_type": "execute_result"
    }
   ],
   "source": [
    "dmg_calc_results"
   ]
  },
  {
   "cell_type": "code",
   "execution_count": null,
   "metadata": {},
   "outputs": [],
   "source": []
  },
  {
   "cell_type": "code",
   "execution_count": 84,
   "metadata": {},
   "outputs": [],
   "source": [
    "with open(\"gen1randbats_dmg_calc.json\", \"r\") as f:\n",
    "    dmg_calc_results = json.load(f)"
   ]
  },
  {
   "cell_type": "code",
   "execution_count": 85,
   "metadata": {},
   "outputs": [
    {
     "data": {
      "text/plain": [
       "12.689742088317871"
      ]
     },
     "execution_count": 85,
     "metadata": {},
     "output_type": "execute_result"
    }
   ],
   "source": [
    "import os\n",
    "file_size = os.path.getsize(\"gen1randbats_dmg_calc.json\")\n",
    "file_size / 1024 / 1024"
   ]
  },
  {
   "cell_type": "code",
   "execution_count": 86,
   "metadata": {},
   "outputs": [
    {
     "data": {
      "text/plain": [
       "{'explosion': {'damage': [0.5176, 0.6098], 'recoil': [-1, -1]},\n",
       " 'psychic': {'damage': [0.2493, 0.2954]},\n",
       " 'doubleedge': {'damage': [0.1545, 0.1816], 'recoil': [-5.5, -6.4]},\n",
       " 'megadrain': {'damage': [0.1111, 0.1328], 'recovery': [0.0814, 0.0969]},\n",
       " 'hyperbeam': {'damage': [0.2304, 0.271]}}"
      ]
     },
     "execution_count": 86,
     "metadata": {},
     "output_type": "execute_result"
    }
   ],
   "source": [
    "dmg_calc_results[\"Exeggutor\"][\"Snorlax\"]"
   ]
  },
  {
   "cell_type": "code",
   "execution_count": 87,
   "metadata": {},
   "outputs": [
    {
     "data": {
      "text/plain": [
       "3.25"
      ]
     },
     "execution_count": 87,
     "metadata": {},
     "output_type": "execute_result"
    }
   ],
   "source": [
    "import sys\n",
    "sys.getsizeof(dmg_calc_results) / 1024"
   ]
  },
  {
   "cell_type": "code",
   "execution_count": null,
   "metadata": {},
   "outputs": [],
   "source": []
  }
 ],
 "metadata": {
  "kernelspec": {
   "display_name": "Python 3",
   "language": "python",
   "name": "python3"
  },
  "language_info": {
   "codemirror_mode": {
    "name": "ipython",
    "version": 3
   },
   "file_extension": ".py",
   "mimetype": "text/x-python",
   "name": "python",
   "nbconvert_exporter": "python",
   "pygments_lexer": "ipython3",
   "version": "3.11.5"
  }
 },
 "nbformat": 4,
 "nbformat_minor": 2
}
