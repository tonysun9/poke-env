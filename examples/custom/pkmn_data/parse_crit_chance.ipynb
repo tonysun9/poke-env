{
 "cells": [
  {
   "cell_type": "code",
   "execution_count": 1,
   "metadata": {},
   "outputs": [],
   "source": [
    "with open(\"crit_chance_raw.txt\", \"r\") as f:\n",
    "    lines = f.readlines()"
   ]
  },
  {
   "cell_type": "code",
   "execution_count": 2,
   "metadata": {},
   "outputs": [
    {
     "data": {
      "text/plain": [
       "27.34"
      ]
     },
     "execution_count": 2,
     "metadata": {},
     "output_type": "execute_result"
    }
   ],
   "source": [
    "float(lines[0].split(\"\\t\")[-1][:-2])"
   ]
  },
  {
   "cell_type": "code",
   "execution_count": 3,
   "metadata": {},
   "outputs": [],
   "source": [
    "crit_chance_dict = {}\n",
    "\n",
    "clean_name = lambda move: move.replace(\" \", \"\").replace(\"-\", \"\").replace(\".\", \"\").lower()\n",
    "\n",
    "for line in lines:\n",
    "    items = line.strip().split(\"\\t\")\n",
    "    crit_chance = round(float(items[-1][:-1]) / 100, 4)\n",
    "    \n",
    "    pkmn_list = items[0].split(\",\")\n",
    "    for pkmn in pkmn_list:\n",
    "        crit_chance_dict[clean_name(pkmn)] = crit_chance"
   ]
  },
  {
   "cell_type": "code",
   "execution_count": 4,
   "metadata": {},
   "outputs": [
    {
     "data": {
      "text/plain": [
       "{'electrode': 0.2734,\n",
       " 'aerodactyl': 0.2539,\n",
       " 'jolteon': 0.2539,\n",
       " 'mewtwo': 0.2539,\n",
       " 'alakazam': 0.2344,\n",
       " 'dugtrio': 0.2344,\n",
       " 'persian': 0.2246,\n",
       " 'starmie': 0.2246,\n",
       " 'gengar': 0.2148,\n",
       " 'tauros': 0.2148,\n",
       " 'electabuzz': 0.205,\n",
       " 'rapidash': 0.205,\n",
       " 'scyther': 0.205,\n",
       " 'charizard': 0.1953,\n",
       " 'dodrio': 0.1953,\n",
       " 'fearow': 0.1953,\n",
       " 'mew': 0.1953,\n",
       " 'ninetales': 0.1953,\n",
       " 'raichu': 0.1953,\n",
       " 'tentacruel': 0.1953,\n",
       " 'zapdos': 0.1953,\n",
       " 'raticate': 0.1895,\n",
       " 'arcanine': 0.1855,\n",
       " 'jynx': 0.1855,\n",
       " 'primeape': 0.1855,\n",
       " 'magmar': 0.1816,\n",
       " 'pidgeot': 0.1777,\n",
       " 'golbat': 0.1759,\n",
       " 'kangaskhan': 0.1759,\n",
       " 'moltres': 0.1759,\n",
       " 'mrmime': 0.1759,\n",
       " 'venomoth': 0.1759,\n",
       " 'hitmonlee': 0.1699,\n",
       " 'articuno': 0.166,\n",
       " 'golduck': 0.166,\n",
       " 'nidoking': 0.166,\n",
       " 'pinsir': 0.166,\n",
       " 'seadra': 0.166,\n",
       " 'gyarados': 0.1582,\n",
       " 'arbok': 0.1563,\n",
       " 'dragonite': 0.1563,\n",
       " 'kabutops': 0.1563,\n",
       " 'venusaur': 0.1563,\n",
       " 'blastoise': 0.1523,\n",
       " 'hitmonchan': 0.1484,\n",
       " 'nidoqueen': 0.1484,\n",
       " 'beedrill': 0.1465,\n",
       " 'kingler': 0.1465,\n",
       " 'butterfree': 0.1367,\n",
       " 'cloyster': 0.1367,\n",
       " 'dewgong': 0.1367,\n",
       " 'magneton': 0.1367,\n",
       " 'onix': 0.1367,\n",
       " 'poliwrath': 0.1367,\n",
       " 'victreebel': 0.1367,\n",
       " 'seaking': 0.1328,\n",
       " 'hypno': 0.1309,\n",
       " 'flareon': 0.127,\n",
       " 'sandslash': 0.127,\n",
       " 'vaporeon': 0.127,\n",
       " 'clefable': 0.1171,\n",
       " \"farfetch'd\": 0.1171,\n",
       " 'lapras': 0.1171,\n",
       " 'tangela': 0.1171,\n",
       " 'weezing': 0.1171,\n",
       " 'exeggutor': 0.1074,\n",
       " 'machamp': 0.1074,\n",
       " 'omastar': 0.1074,\n",
       " 'chansey': 0.0977,\n",
       " 'muk': 0.0977,\n",
       " 'vileplume': 0.0977,\n",
       " 'ditto': 0.0938,\n",
       " 'golem': 0.0879,\n",
       " 'marowak': 0.0879,\n",
       " 'wigglytuff': 0.0879,\n",
       " 'porygon': 0.0781,\n",
       " 'rhydon': 0.0781,\n",
       " 'lickitung': 0.0586,\n",
       " 'parasect': 0.0586,\n",
       " 'slowbro': 0.0586,\n",
       " 'snorlax': 0.0586}"
      ]
     },
     "execution_count": 4,
     "metadata": {},
     "output_type": "execute_result"
    }
   ],
   "source": [
    "crit_chance_dict"
   ]
  },
  {
   "cell_type": "code",
   "execution_count": 5,
   "metadata": {},
   "outputs": [],
   "source": [
    "import json\n",
    "with open('crit_chance.json', 'w') as fp:\n",
    "    json.dump(crit_chance_dict, fp)"
   ]
  },
  {
   "cell_type": "code",
   "execution_count": null,
   "metadata": {},
   "outputs": [],
   "source": []
  }
 ],
 "metadata": {
  "kernelspec": {
   "display_name": "Python 3",
   "language": "python",
   "name": "python3"
  },
  "language_info": {
   "codemirror_mode": {
    "name": "ipython",
    "version": 3
   },
   "file_extension": ".py",
   "mimetype": "text/x-python",
   "name": "python",
   "nbconvert_exporter": "python",
   "pygments_lexer": "ipython3",
   "version": "3.11.5"
  }
 },
 "nbformat": 4,
 "nbformat_minor": 2
}
